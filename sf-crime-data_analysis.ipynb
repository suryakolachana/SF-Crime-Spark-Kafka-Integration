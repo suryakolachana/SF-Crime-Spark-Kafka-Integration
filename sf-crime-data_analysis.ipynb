{
 "cells": [
  {
   "cell_type": "code",
   "execution_count": 38,
   "metadata": {},
   "outputs": [],
   "source": [
    "import logging\n",
    "import json\n",
    "from pyspark.sql import SparkSession\n",
    "from pyspark.sql.types import *\n",
    "import pyspark.sql.functions as psf"
   ]
  },
  {
   "cell_type": "code",
   "execution_count": 39,
   "metadata": {},
   "outputs": [],
   "source": [
    "# TODO Create a schema for incoming resources\n",
    "schema = StructType([\n",
    "    StructField(\"crime_id\",StringType(),True),\n",
    "    StructField(\"original_crime_type_name\",StringType(),True),\n",
    "    StructField(\"report_date\",StringType(),True),\n",
    "    StructField(\"call_date\",StringType(),True),\n",
    "    StructField(\"offense_date\",StringType(),True),\n",
    "    StructField(\"call_time\",StringType(),True),\n",
    "    StructField(\"call_date_time\",StringType(),True),\n",
    "    StructField(\"disposition\",StringType(),True),\n",
    "    StructField(\"address\",StringType(),True),\n",
    "    StructField(\"city\",StringType(),True),\n",
    "    StructField(\"state\",StringType(),True),\n",
    "    StructField(\"agency_id\",StringType(),True),\n",
    "    StructField(\"address_type\",StringType(),True),\n",
    "    StructField(\"common_location\",StringType(),True)\n",
    "])"
   ]
  },
  {
   "cell_type": "code",
   "execution_count": 40,
   "metadata": {},
   "outputs": [],
   "source": [
    "# TODO Create Spark in Standalone mode\n",
    "spark = SparkSession \\\n",
    "    .builder \\\n",
    "    .master(\"local[*]\") \\\n",
    "    .appName(\"KafkaSparkStructuredStreaming\") \\\n",
    "    .getOrCreate()"
   ]
  },
  {
   "cell_type": "code",
   "execution_count": 41,
   "metadata": {},
   "outputs": [],
   "source": [
    "df = spark.read.json(\"police-department-calls-for-service.json\",multiLine=True,schema=schema)"
   ]
  },
  {
   "cell_type": "code",
   "execution_count": 42,
   "metadata": {},
   "outputs": [
    {
     "name": "stdout",
     "output_type": "stream",
     "text": [
      "root\n",
      " |-- crime_id: string (nullable = true)\n",
      " |-- original_crime_type_name: string (nullable = true)\n",
      " |-- report_date: string (nullable = true)\n",
      " |-- call_date: string (nullable = true)\n",
      " |-- offense_date: string (nullable = true)\n",
      " |-- call_time: string (nullable = true)\n",
      " |-- call_date_time: string (nullable = true)\n",
      " |-- disposition: string (nullable = true)\n",
      " |-- address: string (nullable = true)\n",
      " |-- city: string (nullable = true)\n",
      " |-- state: string (nullable = true)\n",
      " |-- agency_id: string (nullable = true)\n",
      " |-- address_type: string (nullable = true)\n",
      " |-- common_location: string (nullable = true)\n",
      "\n"
     ]
    }
   ],
   "source": [
    "df.printSchema()"
   ]
  },
  {
   "cell_type": "code",
   "execution_count": 43,
   "metadata": {},
   "outputs": [
    {
     "name": "stdout",
     "output_type": "stream",
     "text": [
      "+---------+------------------------+--------------------+--------------------+--------------------+---------+--------------------+-----------+--------------------+-------------+-----+---------+---------------+--------------------+\n",
      "| crime_id|original_crime_type_name|         report_date|           call_date|        offense_date|call_time|      call_date_time|disposition|             address|         city|state|agency_id|   address_type|     common_location|\n",
      "+---------+------------------------+--------------------+--------------------+--------------------+---------+--------------------+-----------+--------------------+-------------+-----+---------+---------------+--------------------+\n",
      "|183653763|            Traffic Stop|2018-12-31T00:00:...|2018-12-31T00:00:...|2018-12-31T00:00:...|    23:57|2018-12-31T23:57:...|        ADM|Geary Bl/divisade...|San Francisco|   CA|        1|   Intersection|                    |\n",
      "|183653756|     Traf Violation Cite|2018-12-31T00:00:...|2018-12-31T00:00:...|2018-12-31T00:00:...|    23:54|2018-12-31T23:54:...|        CIT|   100 Blk Howard St|San Francisco|   CA|        1|   Geo-Override|                    |\n",
      "|183653746|            Passing Call|2018-12-31T00:00:...|2018-12-31T00:00:...|2018-12-31T00:00:...|    23:49|2018-12-31T23:49:...|        HAN|3300 Block Of 20t...|San Francisco|   CA|        1|Common Location|Stonestown Galler...|\n",
      "|183653745|           Audible Alarm|2018-12-31T00:00:...|2018-12-31T00:00:...|2018-12-31T00:00:...|    23:47|2018-12-31T23:47:...|        PAS|1900 Block Of 18t...|San Francisco|   CA|        1|Premise Address|                    |\n",
      "|183653737|            Traffic Stop|2018-12-31T00:00:...|2018-12-31T00:00:...|2018-12-31T00:00:...|    23:46|2018-12-31T23:46:...|        CIT|Sansome St/chestn...|San Francisco|   CA|        1|   Intersection|                    |\n",
      "+---------+------------------------+--------------------+--------------------+--------------------+---------+--------------------+-----------+--------------------+-------------+-----+---------+---------------+--------------------+\n",
      "only showing top 5 rows\n",
      "\n"
     ]
    }
   ],
   "source": [
    "df.show(5)"
   ]
  },
  {
   "cell_type": "code",
   "execution_count": 44,
   "metadata": {},
   "outputs": [],
   "source": [
    "    # TODO select original_crime_type_name and disposition\n",
    "distinct_table = df \\\n",
    "    .select(\n",
    "    psf.to_timestamp(psf.col(\"call_date_time\")).alias(\"call_date_time\"),\n",
    "    psf.col(\"original_crime_type_name\"),\n",
    "    psf.col(\"disposition\")\n",
    ")"
   ]
  },
  {
   "cell_type": "code",
   "execution_count": 45,
   "metadata": {},
   "outputs": [
    {
     "name": "stdout",
     "output_type": "stream",
     "text": [
      "+-------------------+------------------------+------------+\n",
      "|     call_date_time|original_crime_type_name| disposition|\n",
      "+-------------------+------------------------+------------+\n",
      "|2018-12-31 23:57:00|            Traffic Stop|         ADM|\n",
      "|2018-12-31 23:54:00|     Traf Violation Cite|         CIT|\n",
      "|2018-12-31 23:49:00|            Passing Call|         HAN|\n",
      "|2018-12-31 23:47:00|           Audible Alarm|         PAS|\n",
      "|2018-12-31 23:46:00|            Traffic Stop|         CIT|\n",
      "|2018-12-31 23:38:00|            Passing Call|          ND|\n",
      "|2018-12-31 23:38:00|            Traffic Stop|         CIT|\n",
      "|2018-12-31 23:36:00|            Traffic Stop|         HAN|\n",
      "|2018-12-31 23:34:00|            Passing Call|Not recorded|\n",
      "|2018-12-31 23:33:00|         Fight No Weapon|         GOA|\n",
      "|2018-12-31 23:33:00|            Traffic Stop|         HAN|\n",
      "|2018-12-31 23:33:00|            Passing Call|         HAN|\n",
      "|2018-12-31 23:33:00|            Passing Call|         HAN|\n",
      "|2018-12-31 23:30:00|            Traffic Stop|         CIT|\n",
      "|2018-12-31 23:30:00|                     Att|         REP|\n",
      "|2018-12-31 23:29:00|      Auto Boost / Strip|         REP|\n",
      "|2018-12-31 23:29:00|            Passing Call|         HAN|\n",
      "|2018-12-31 23:28:00|            Traffic Stop|         ADV|\n",
      "|2018-12-31 23:25:00|            Passing Call|         HAN|\n",
      "|2018-12-31 23:24:00|      Suspicious Vehicle|         ADV|\n",
      "+-------------------+------------------------+------------+\n",
      "only showing top 20 rows\n",
      "\n"
     ]
    }
   ],
   "source": [
    "distinct_table.show()"
   ]
  },
  {
   "cell_type": "code",
   "execution_count": 49,
   "metadata": {},
   "outputs": [],
   "source": [
    "# count the number of original crime type\n",
    "agg_df = distinct_table \\\n",
    "    .select(\n",
    "    distinct_table.call_date_time,\n",
    "    distinct_table.original_crime_type_name,\n",
    "    distinct_table.disposition\n",
    ") \\\n",
    "    .withWatermark(\"call_date_time\", \"60 minutes\") \\\n",
    "    .groupBy(\n",
    "    psf.window(distinct_table.call_date_time, \"10 minutes\",\"5 minutes\"),\n",
    "    psf.col(\"original_crime_type_name\")\n",
    ") \\\n",
    "    .count()"
   ]
  },
  {
   "cell_type": "code",
   "execution_count": 50,
   "metadata": {},
   "outputs": [
    {
     "name": "stdout",
     "output_type": "stream",
     "text": [
      "+--------------------+------------------------+-----+\n",
      "|              window|original_crime_type_name|count|\n",
      "+--------------------+------------------------+-----+\n",
      "|[2018-12-31 22:30...|            Passing Call|    2|\n",
      "|[2018-12-31 18:30...|            Passing Call|    2|\n",
      "|[2018-12-31 18:20...|                    Poss|    1|\n",
      "|[2018-12-31 17:50...|                   Fraud|    1|\n",
      "|[2018-12-31 17:25...|        Well Being Check|    1|\n",
      "|[2018-12-31 15:40...|                     916|    1|\n",
      "|[2018-12-31 14:10...|             Petty Theft|    1|\n",
      "|[2018-12-31 13:15...|            Passing Call|    5|\n",
      "|[2018-12-31 11:45...|              Trespasser|    1|\n",
      "|[2018-12-31 10:10...|                      Lp|    1|\n",
      "|[2018-12-31 03:25...|               Vandalism|    1|\n",
      "|[2018-12-30 21:35...|                 518 586|    1|\n",
      "|[2018-12-30 20:05...|                      Jo|    1|\n",
      "|[2018-12-30 20:00...|                Jo / Bat|    1|\n",
      "|[2018-12-30 19:25...|    Threats / Harassment|    1|\n",
      "|[2018-12-30 18:05...|            Passing Call|    6|\n",
      "|[2018-12-30 16:55...|       Suspicious Person|    2|\n",
      "|[2018-12-30 16:30...|            Passing Call|    5|\n",
      "|[2018-12-30 14:55...|            Passing Call|    2|\n",
      "|[2018-12-30 12:45...|                     601|    1|\n",
      "|[2018-12-30 10:45...|            Passing Call|    3|\n",
      "|[2018-12-30 09:50...|                     917|    1|\n",
      "|[2018-12-30 06:05...|             Petty Theft|    1|\n",
      "|[2018-12-30 01:05...|         Fight No Weapon|    4|\n",
      "|[2018-12-29 18:55...|      Intoxicated Person|    1|\n",
      "|[2018-12-29 18:00...|      Suspicious Vehicle|    1|\n",
      "|[2018-12-29 17:35...|         Muni Inspection|    4|\n",
      "|[2018-12-29 17:20...|        Missing Juvenile|    1|\n",
      "|[2018-12-29 17:15...|                   22514|    1|\n",
      "|[2018-12-29 15:55...|          Illegal Vendor|    1|\n",
      "|[2018-12-29 15:40...|       Abandoned Vehicle|    1|\n",
      "|[2018-12-29 13:35...|                    500e|    1|\n",
      "|[2018-12-29 11:45...|      Traf Violation Tow|    1|\n",
      "|[2018-12-29 11:20...|                    500e|    1|\n",
      "|[2018-12-29 11:10...|           Audible Alarm|    2|\n",
      "|[2018-12-29 11:05...|              Trespasser|    2|\n",
      "|[2018-12-29 10:45...|       Suspicious Person|    1|\n",
      "|[2018-12-29 10:40...|                      Gz|    1|\n",
      "|[2018-12-28 23:40...|            Passing Call|    2|\n",
      "|[2018-12-28 23:10...|      Homeless Complaint|    1|\n",
      "|[2018-12-28 17:15...|     Traf Violation Cite|    1|\n",
      "|[2018-12-28 16:45...|                   Fraud|    1|\n",
      "|[2018-12-28 14:55...|           Missing Adult|    1|\n",
      "|[2018-12-28 14:30...|                     800|    1|\n",
      "|[2018-12-28 10:35...|                   Fraud|    1|\n",
      "|[2018-12-28 08:30...|            Passing Call|    3|\n",
      "|[2018-12-28 07:25...|                  Garage|    1|\n",
      "|[2018-12-27 22:20...|             Person Down|    1|\n",
      "|[2018-12-27 18:15...|                    Poss|    1|\n",
      "|[2018-12-27 17:55...|      Homeless Complaint|    1|\n",
      "|[2018-12-27 17:45...|           Audible Alarm|    2|\n",
      "|[2018-12-27 14:15...|                  Casers|    1|\n",
      "|[2018-12-27 12:50...|              Trespasser|    2|\n",
      "|[2018-12-27 11:20...|             Petty Theft|    1|\n",
      "|[2018-12-27 09:30...|     Traf Violation Cite|    2|\n",
      "|[2018-12-27 06:00...|      Traf Violation Tow|    1|\n",
      "|[2018-12-27 02:15...|            Passing Call|    1|\n",
      "|[2018-12-26 21:45...|          Noise Nuisance|    1|\n",
      "|[2018-12-26 19:25...|                Reckless|    1|\n",
      "|[2018-12-26 16:10...|            Traffic Stop|    4|\n",
      "|[2018-12-26 16:05...|         Muni Inspection|    1|\n",
      "|[2018-12-26 16:00...|           Audible Alarm|    1|\n",
      "|[2018-12-26 15:05...|              Dirt Bikes|    1|\n",
      "|[2018-12-26 14:15...|          Stolen Vehicle|    1|\n",
      "|[2018-12-26 11:10...|              Trespasser|    1|\n",
      "|[2018-12-26 02:15...|            Traffic Stop|    1|\n",
      "|[2018-12-26 00:35...|        Missing Juvenile|    1|\n",
      "|[2018-12-25 21:20...|          Noise Nuisance|    1|\n",
      "|[2018-12-25 21:15...|         Fight No Weapon|    1|\n",
      "|[2018-12-25 16:40...|         Fight No Weapon|    1|\n",
      "|[2018-12-25 12:40...|                 601/470|    1|\n",
      "|[2018-12-25 11:50...|          Person W/knife|    1|\n",
      "|[2018-12-25 10:45...|          Noise Nuisance|    1|\n",
      "|[2018-12-25 09:05...|            Passing Call|    1|\n",
      "|[2018-12-25 08:45...|                   Alarm|    1|\n",
      "|[2018-12-25 08:40...|         Fight No Weapon|    1|\n",
      "|[2018-12-25 08:00...|            Passing Call|    3|\n",
      "|[2018-12-25 06:10...|      Citizen Standby Dv|    1|\n",
      "|[2018-12-24 20:00...|         Fight No Weapon|    1|\n",
      "|[2018-12-24 19:05...|                Burglary|    1|\n",
      "|[2018-12-24 18:20...|          Citizen Arrest|    1|\n",
      "|[2018-12-24 17:45...|              Trespasser|    1|\n",
      "|[2018-12-24 17:05...|           Vehicle Alarm|    1|\n",
      "|[2018-12-24 16:50...|          Noise Nuisance|    1|\n",
      "|[2018-12-24 16:05...|      Auto Boost / Strip|    1|\n",
      "|[2018-12-24 15:45...|            Passing Call|    2|\n",
      "|[2018-12-24 12:25...|          Complaint Unkn|    1|\n",
      "|[2018-12-24 11:25...|                     518|    1|\n",
      "|[2018-12-24 11:15...|     Injury Veh Accident|    1|\n",
      "|[2018-12-24 11:15...|                     800|    1|\n",
      "|[2018-12-24 10:20...|              Trespasser|    1|\n",
      "|[2018-12-24 10:05...|                   Plate|    1|\n",
      "|[2018-12-24 06:30...|      Homeless Complaint|    1|\n",
      "|[2018-12-24 03:20...|     Injury Veh Accident|    1|\n",
      "|[2018-12-24 01:20...|     Juve Beyond Control|    1|\n",
      "|[2018-12-23 19:20...|                      Ip|    1|\n",
      "|[2018-12-23 17:30...|          Complaint Unkn|    1|\n",
      "|[2018-12-23 11:10...|      Auto Boost / Strip|    1|\n",
      "|[2018-12-23 10:40...|             Petty Theft|    2|\n",
      "|[2018-12-23 08:35...|         Muni Inspection|    1|\n",
      "+--------------------+------------------------+-----+\n",
      "only showing top 100 rows\n",
      "\n"
     ]
    }
   ],
   "source": [
    "agg_df.show(100)"
   ]
  },
  {
   "cell_type": "code",
   "execution_count": null,
   "metadata": {},
   "outputs": [],
   "source": []
  }
 ],
 "metadata": {
  "kernelspec": {
   "display_name": "Python 3",
   "language": "python",
   "name": "python3"
  },
  "language_info": {
   "codemirror_mode": {
    "name": "ipython",
    "version": 3
   },
   "file_extension": ".py",
   "mimetype": "text/x-python",
   "name": "python",
   "nbconvert_exporter": "python",
   "pygments_lexer": "ipython3",
   "version": "3.7.3"
  }
 },
 "nbformat": 4,
 "nbformat_minor": 2
}
